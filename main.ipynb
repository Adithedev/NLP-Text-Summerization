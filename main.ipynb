{
 "cells": [
  {
   "attachments": {},
   "cell_type": "markdown",
   "metadata": {},
   "source": [
    "# Text Summerization using NLP Tools"
   ]
  },
  {
   "attachments": {},
   "cell_type": "markdown",
   "metadata": {},
   "source": [
    "### Tasks\n",
    "##### ➡️ Text Cleaning \n",
    "##### ➡️ Sentence Tokenization\n",
    "##### ➡️ Word Tokenization\n",
    "##### ➡️ Word Frequency table\n",
    "##### ➡️ Summerization\n"
   ]
  },
  {
   "attachments": {},
   "cell_type": "markdown",
   "metadata": {},
   "source": [
    "### Project Prerequisites"
   ]
  },
  {
   "cell_type": "code",
   "execution_count": 20,
   "metadata": {},
   "outputs": [],
   "source": [
    "import re\n",
    "import spacy\n",
    "import streamlit as st\n",
    "from heapq import nlargest\n",
    "import joblib\n",
    "from Model_class import *"
   ]
  },
  {
   "attachments": {},
   "cell_type": "markdown",
   "metadata": {},
   "source": [
    "### Initiating Streamlit"
   ]
  },
  {
   "attachments": {},
   "cell_type": "markdown",
   "metadata": {},
   "source": [
    "### Text Cleaning"
   ]
  },
  {
   "cell_type": "code",
   "execution_count": 3,
   "metadata": {},
   "outputs": [
    {
     "name": "stdout",
     "output_type": "stream",
     "text": [
      "\n",
      "Google typically demos the latest version of Android at its annual developer conference, and this year is no exception. Android 14 was a major announcement at Google I/O 2023. The latest version of Android brings improvements in performance, privacy, and security. It was first announced in February 2023, and the first public beta followed two months later in April 2023. It can now be downloaded on compatible Pixel phones.\n",
      "\n",
      "While at I/O, Dave Burke, VP of Engineering at Google, discussed new customisation options that will be available on the lock screen of Android 14. The lock screen on Android 14 will feature personalised clocks with font, colour, size, and design options, and new lock screen shortcuts for frequently used activities, such as turning on the flashlight, accessing the payment wallet, and scanning QR codes.\n",
      "\n",
      "Google is adding AI-powered features to Android 14, too. Magic Compose will suggest text responses in Android Messages.\n",
      "\n",
      "If you're eager to try out the latest Android operating system, the Android 14 Beta 1 is more stable than the developer preview, but it is still experimental software that may have bugs, so it's essential to back up your device before downloading. The Android 14 beta program will continue until the public release of Android 14, which is expected later in autumn 2023, and updates will be provided regularly.\n",
      "\n",
      "Alongside the Android 14 updates, Google also announced an improvement to the Find My feature, which takes advantage of the large number of Android devices available to help locate missing devices. Users will be able to track their Android 14-powered phone with the help of any nearby Android devices, and third-party trackers like Tile can also be tracked via Find My. These new features are expected to launch in the summer 2023.\n"
     ]
    }
   ],
   "source": [
    "text = input(\"Enter the text here: \")\n",
    "print(text)"
   ]
  },
  {
   "cell_type": "code",
   "execution_count": 4,
   "metadata": {},
   "outputs": [],
   "source": [
    "stop_words = [ 'stop', 'the', 'to', 'and', 'a', 'in', 'it', 'is', 'I', 'that', 'had', 'on', 'for', 'were', 'was']"
   ]
  },
  {
   "cell_type": "code",
   "execution_count": 5,
   "metadata": {},
   "outputs": [],
   "source": [
    "nlp = spacy.load(\"en_core_web_sm\")\n",
    "doc = nlp(text)"
   ]
  },
  {
   "cell_type": "code",
   "execution_count": 6,
   "metadata": {},
   "outputs": [
    {
     "data": {
      "text/plain": [
       "'\\n Google typically demo the late version of Android at its annual developer conference , and this year be no exception . Android 14 be a major announcement at Google I / o 2023 . the late version of Android bring improvement in performance , privacy , and security . it be first announce in February 2023 , and the first public beta follow two month later in April 2023 . it can now be download on compatible Pixel phone . \\n\\n while at I / O , Dave Burke , VP of Engineering at Google , discuss new customisation option that will be available on the lock screen of Android 14 . the lock screen on Android 14 will feature personalise clock with font , colour , size , and design option , and new lock screen shortcut for frequently use activity , such as turn on the flashlight , access the payment wallet , and scan qr code . \\n\\n Google be add AI - power feature to Android 14 , too . Magic Compose will suggest text response in Android Messages . \\n\\n if you be eager to try out the late Android operating system , the Android 14 Beta 1 be more stable than the developer preview , but it be still experimental software that may have bug , so it be essential to back up your device before download . the Android 14 beta program will continue until the public release of Android 14 , which be expect later in autumn 2023 , and update will be provide regularly . \\n\\n alongside the Android 14 update , Google also announce an improvement to the find my feature , which take advantage of the large number of Android device available to help locate missing device . user will be able to track their Android 14 - power phone with the help of any nearby Android device , and third - party tracker like Tile can also be track via find My . these new feature be expect to launch in the summer 2023 .'"
      ]
     },
     "execution_count": 6,
     "metadata": {},
     "output_type": "execute_result"
    }
   ],
   "source": [
    "lemmatized_text = \" \".join([token.lemma_ for token in doc])\n",
    "lemmatized_text"
   ]
  },
  {
   "cell_type": "code",
   "execution_count": 7,
   "metadata": {},
   "outputs": [
    {
     "name": "stdout",
     "output_type": "stream",
     "text": [
      "\n",
      " google typically demo the late version of android at its annual developer conference , and this year be no exception . android 14 be a major announcement at google i o 2023 . the late version of android bring improvement in performance , privacy , and security . it be first announce in february 2023 , and the first public beta follow two month later in april 2023 . it can now be download on compatible pixel phone . \n",
      "\n",
      " while at i o , dave burke , vp of engineering at google , discuss new customisation option that will be available on the lock screen of android 14 . the lock screen on android 14 will feature personalise clock with font , colour , size , and design option , and new lock screen shortcut for frequently use activity , such as turn on the flashlight , access the payment wallet , and scan qr code . \n",
      "\n",
      " google be add ai power feature to android 14 , too . magic compose will suggest text response in android messages . \n",
      "\n",
      " if you be eager to try out the late android operating system , the android 14 beta 1 be more stable than the developer preview , but it be still experimental software that may have bug , so it be essential to back up your device before download . the android 14 beta program will continue until the public release of android 14 , which be expect later in autumn 2023 , and update will be provide regularly . \n",
      "\n",
      " alongside the android 14 update , google also announce an improvement to the find my feature , which take advantage of the large number of android device available to help locate missing device . user will be able to track their android 14 power phone with the help of any nearby android device , and third party tracker like tile can also be track via find my . these new feature be expect to launch in the summer 2023 .\n"
     ]
    }
   ],
   "source": [
    "re_text = re.sub(\"[^\\s\\w,.]\",\" \",lemmatized_text)\n",
    "re_text = re.sub(\"[ ]{2,}\",\" \",re_text).lower()\n",
    "print(re_text)"
   ]
  },
  {
   "cell_type": "code",
   "execution_count": 8,
   "metadata": {},
   "outputs": [],
   "source": [
    "word_frequencies = {}\n",
    "for word in doc:\n",
    "    if word.text not in \"\\n\":\n",
    "        if word.text not in stop_words:\n",
    "            if word.text not in word_frequencies.keys():\n",
    "                word_frequencies[word.text] = 1\n",
    "            else:\n",
    "                word_frequencies[word.text] +=1"
   ]
  },
  {
   "cell_type": "code",
   "execution_count": 9,
   "metadata": {},
   "outputs": [
    {
     "name": "stdout",
     "output_type": "stream",
     "text": [
      "{'Google': 5, 'typically': 1, 'demos': 1, 'latest': 3, 'version': 2, 'of': 8, 'Android': 15, 'at': 4, 'its': 1, 'annual': 1, 'developer': 2, 'conference': 1, ',': 23, 'this': 1, 'year': 1, 'no': 1, 'exception': 1, '.': 14, '14': 9, 'major': 1, 'announcement': 1, '/': 2, 'O': 2, '2023': 5, 'The': 3, 'brings': 1, 'improvements': 1, 'performance': 1, 'privacy': 1, 'security': 1, 'It': 2, 'first': 2, 'announced': 2, 'February': 1, 'public': 2, 'beta': 2, 'followed': 1, 'two': 1, 'months': 1, 'later': 2, 'April': 1, 'can': 2, 'now': 1, 'be': 5, 'downloaded': 1, 'compatible': 1, 'Pixel': 1, 'phones': 1, '\\n\\n': 4, 'While': 1, 'Dave': 1, 'Burke': 1, 'VP': 1, 'Engineering': 1, 'discussed': 1, 'new': 3, 'customisation': 1, 'options': 2, 'will': 6, 'available': 2, 'lock': 3, 'screen': 3, 'feature': 2, 'personalised': 1, 'clocks': 1, 'with': 2, 'font': 1, 'colour': 1, 'size': 1, 'design': 1, 'shortcuts': 1, 'frequently': 1, 'used': 1, 'activities': 1, 'such': 1, 'as': 1, 'turning': 1, 'flashlight': 1, 'accessing': 1, 'payment': 1, 'wallet': 1, 'scanning': 1, 'QR': 1, 'codes': 1, 'adding': 1, 'AI': 1, '-': 3, 'powered': 2, 'features': 2, 'too': 1, 'Magic': 1, 'Compose': 1, 'suggest': 1, 'text': 1, 'responses': 1, 'Messages': 1, 'If': 1, 'you': 1, \"'re\": 1, 'eager': 1, 'try': 1, 'out': 1, 'operating': 1, 'system': 1, 'Beta': 1, '1': 1, 'more': 1, 'stable': 1, 'than': 1, 'preview': 1, 'but': 1, 'still': 1, 'experimental': 1, 'software': 1, 'may': 1, 'have': 1, 'bugs': 1, 'so': 1, \"'s\": 1, 'essential': 1, 'back': 1, 'up': 1, 'your': 1, 'device': 1, 'before': 1, 'downloading': 1, 'program': 1, 'continue': 1, 'until': 1, 'release': 1, 'which': 2, 'expected': 2, 'autumn': 1, 'updates': 2, 'provided': 1, 'regularly': 1, 'Alongside': 1, 'also': 2, 'an': 1, 'improvement': 1, 'Find': 2, 'My': 2, 'takes': 1, 'advantage': 1, 'large': 1, 'number': 1, 'devices': 3, 'help': 2, 'locate': 1, 'missing': 1, 'Users': 1, 'able': 1, 'track': 1, 'their': 1, 'phone': 1, 'any': 1, 'nearby': 1, 'third': 1, 'party': 1, 'trackers': 1, 'like': 1, 'Tile': 1, 'tracked': 1, 'via': 1, 'These': 1, 'are': 1, 'launch': 1, 'summer': 1}\n"
     ]
    }
   ],
   "source": [
    "print(word_frequencies)"
   ]
  },
  {
   "cell_type": "code",
   "execution_count": 10,
   "metadata": {},
   "outputs": [
    {
     "data": {
      "text/plain": [
       "23"
      ]
     },
     "execution_count": 10,
     "metadata": {},
     "output_type": "execute_result"
    }
   ],
   "source": [
    "max_word_frequency = max(word_frequencies.values())\n",
    "max_word_frequency"
   ]
  },
  {
   "cell_type": "code",
   "execution_count": 11,
   "metadata": {},
   "outputs": [
    {
     "name": "stdout",
     "output_type": "stream",
     "text": [
      "{'Google': 0.21739130434782608, 'typically': 0.043478260869565216, 'demos': 0.043478260869565216, 'latest': 0.13043478260869565, 'version': 0.08695652173913043, 'of': 0.34782608695652173, 'Android': 0.6521739130434783, 'at': 0.17391304347826086, 'its': 0.043478260869565216, 'annual': 0.043478260869565216, 'developer': 0.08695652173913043, 'conference': 0.043478260869565216, ',': 1.0, 'this': 0.043478260869565216, 'year': 0.043478260869565216, 'no': 0.043478260869565216, 'exception': 0.043478260869565216, '.': 0.6086956521739131, '14': 0.391304347826087, 'major': 0.043478260869565216, 'announcement': 0.043478260869565216, '/': 0.08695652173913043, 'O': 0.08695652173913043, '2023': 0.21739130434782608, 'The': 0.13043478260869565, 'brings': 0.043478260869565216, 'improvements': 0.043478260869565216, 'performance': 0.043478260869565216, 'privacy': 0.043478260869565216, 'security': 0.043478260869565216, 'It': 0.08695652173913043, 'first': 0.08695652173913043, 'announced': 0.08695652173913043, 'February': 0.043478260869565216, 'public': 0.08695652173913043, 'beta': 0.08695652173913043, 'followed': 0.043478260869565216, 'two': 0.043478260869565216, 'months': 0.043478260869565216, 'later': 0.08695652173913043, 'April': 0.043478260869565216, 'can': 0.08695652173913043, 'now': 0.043478260869565216, 'be': 0.21739130434782608, 'downloaded': 0.043478260869565216, 'compatible': 0.043478260869565216, 'Pixel': 0.043478260869565216, 'phones': 0.043478260869565216, '\\n\\n': 0.17391304347826086, 'While': 0.043478260869565216, 'Dave': 0.043478260869565216, 'Burke': 0.043478260869565216, 'VP': 0.043478260869565216, 'Engineering': 0.043478260869565216, 'discussed': 0.043478260869565216, 'new': 0.13043478260869565, 'customisation': 0.043478260869565216, 'options': 0.08695652173913043, 'will': 0.2608695652173913, 'available': 0.08695652173913043, 'lock': 0.13043478260869565, 'screen': 0.13043478260869565, 'feature': 0.08695652173913043, 'personalised': 0.043478260869565216, 'clocks': 0.043478260869565216, 'with': 0.08695652173913043, 'font': 0.043478260869565216, 'colour': 0.043478260869565216, 'size': 0.043478260869565216, 'design': 0.043478260869565216, 'shortcuts': 0.043478260869565216, 'frequently': 0.043478260869565216, 'used': 0.043478260869565216, 'activities': 0.043478260869565216, 'such': 0.043478260869565216, 'as': 0.043478260869565216, 'turning': 0.043478260869565216, 'flashlight': 0.043478260869565216, 'accessing': 0.043478260869565216, 'payment': 0.043478260869565216, 'wallet': 0.043478260869565216, 'scanning': 0.043478260869565216, 'QR': 0.043478260869565216, 'codes': 0.043478260869565216, 'adding': 0.043478260869565216, 'AI': 0.043478260869565216, '-': 0.13043478260869565, 'powered': 0.08695652173913043, 'features': 0.08695652173913043, 'too': 0.043478260869565216, 'Magic': 0.043478260869565216, 'Compose': 0.043478260869565216, 'suggest': 0.043478260869565216, 'text': 0.043478260869565216, 'responses': 0.043478260869565216, 'Messages': 0.043478260869565216, 'If': 0.043478260869565216, 'you': 0.043478260869565216, \"'re\": 0.043478260869565216, 'eager': 0.043478260869565216, 'try': 0.043478260869565216, 'out': 0.043478260869565216, 'operating': 0.043478260869565216, 'system': 0.043478260869565216, 'Beta': 0.043478260869565216, '1': 0.043478260869565216, 'more': 0.043478260869565216, 'stable': 0.043478260869565216, 'than': 0.043478260869565216, 'preview': 0.043478260869565216, 'but': 0.043478260869565216, 'still': 0.043478260869565216, 'experimental': 0.043478260869565216, 'software': 0.043478260869565216, 'may': 0.043478260869565216, 'have': 0.043478260869565216, 'bugs': 0.043478260869565216, 'so': 0.043478260869565216, \"'s\": 0.043478260869565216, 'essential': 0.043478260869565216, 'back': 0.043478260869565216, 'up': 0.043478260869565216, 'your': 0.043478260869565216, 'device': 0.043478260869565216, 'before': 0.043478260869565216, 'downloading': 0.043478260869565216, 'program': 0.043478260869565216, 'continue': 0.043478260869565216, 'until': 0.043478260869565216, 'release': 0.043478260869565216, 'which': 0.08695652173913043, 'expected': 0.08695652173913043, 'autumn': 0.043478260869565216, 'updates': 0.08695652173913043, 'provided': 0.043478260869565216, 'regularly': 0.043478260869565216, 'Alongside': 0.043478260869565216, 'also': 0.08695652173913043, 'an': 0.043478260869565216, 'improvement': 0.043478260869565216, 'Find': 0.08695652173913043, 'My': 0.08695652173913043, 'takes': 0.043478260869565216, 'advantage': 0.043478260869565216, 'large': 0.043478260869565216, 'number': 0.043478260869565216, 'devices': 0.13043478260869565, 'help': 0.08695652173913043, 'locate': 0.043478260869565216, 'missing': 0.043478260869565216, 'Users': 0.043478260869565216, 'able': 0.043478260869565216, 'track': 0.043478260869565216, 'their': 0.043478260869565216, 'phone': 0.043478260869565216, 'any': 0.043478260869565216, 'nearby': 0.043478260869565216, 'third': 0.043478260869565216, 'party': 0.043478260869565216, 'trackers': 0.043478260869565216, 'like': 0.043478260869565216, 'Tile': 0.043478260869565216, 'tracked': 0.043478260869565216, 'via': 0.043478260869565216, 'These': 0.043478260869565216, 'are': 0.043478260869565216, 'launch': 0.043478260869565216, 'summer': 0.043478260869565216}\n"
     ]
    }
   ],
   "source": [
    "for word in word_frequencies.keys():\n",
    "   word_frequencies[word] = word_frequencies[word] / max_word_frequency   \n",
    "print(word_frequencies)"
   ]
  },
  {
   "cell_type": "code",
   "execution_count": 12,
   "metadata": {},
   "outputs": [
    {
     "data": {
      "text/plain": [
       "{\n",
       " Google typically demos the latest version of Android at its annual developer conference, and this year is no exception.: 3.695652173913044,\n",
       " Android 14 was a major announcement at Google I/O 2023.: 2.5217391304347827,\n",
       " The latest version of Android brings improvements in performance, privacy, and security.: 4.173913043478262,\n",
       " It was first announced in February 2023, and the first public beta followed two months later in April 2023.: 2.869565217391304,\n",
       " It can now be downloaded on compatible Pixel phones.\n",
       " : 1.391304347826087,\n",
       " While at I/O, Dave Burke, VP of Engineering at Google, discussed new customisation options that will be available on the lock screen of Android 14.: 7.434782608695653,\n",
       " The lock screen on Android 14 will feature personalised clocks with font, colour, size, and design options, and new lock screen shortcuts for frequently used activities, such as turning on the flashlight, accessing the payment wallet, and scanning QR codes.\n",
       " : 11.0,\n",
       " Google is adding AI-powered features to Android 14, too.: 3.304347826086957,\n",
       " Magic Compose will suggest text responses in Android Messages.\n",
       " : 1.9565217391304346,\n",
       " If you're eager to try out the latest Android operating system, the Android 14 Beta 1 is more stable than the developer preview, but it is still experimental software that may have bugs, so it's essential to back up your device before downloading.: 6.826086956521743,\n",
       " The Android 14 beta program will continue until the public release of Android 14, which is expected later in autumn 2023, and updates will be provided regularly.\n",
       " : 7.130434782608698,\n",
       " Alongside the Android 14 updates, Google also announced an improvement to the Find: 2.739130434782609,\n",
       " My feature, which takes advantage of the large number of Android devices available to help locate missing devices.: 3.91304347826087,\n",
       " Users will be able to track their Android 14-powered phone with the help of any nearby Android devices, and third-party trackers like Tile can also be tracked via Find My.: 5.956521739130437,\n",
       " These new features are expected to launch in the summer 2023.: 1.3043478260869565}"
      ]
     },
     "execution_count": 12,
     "metadata": {},
     "output_type": "execute_result"
    }
   ],
   "source": [
    "sent_tokens = [sent for sent in doc.sents]\n",
    "sent_scores = {}\n",
    "for sent in sent_tokens:\n",
    "    for word in sent:\n",
    "        if word.text in word_frequencies.keys():\n",
    "            if sent not in sent_scores.keys():\n",
    "                sent_scores[sent] = word_frequencies[word.text]\n",
    "            else:\n",
    "                sent_scores[sent] += word_frequencies[word.text]\n",
    "sent_scores"
   ]
  },
  {
   "cell_type": "code",
   "execution_count": 13,
   "metadata": {},
   "outputs": [
    {
     "data": {
      "text/plain": [
       "4"
      ]
     },
     "execution_count": 13,
     "metadata": {},
     "output_type": "execute_result"
    }
   ],
   "source": [
    "sentence_length = int(len(sent_tokens)*0.3)\n",
    "sentence_length"
   ]
  },
  {
   "cell_type": "code",
   "execution_count": 14,
   "metadata": {},
   "outputs": [
    {
     "data": {
      "text/plain": [
       "[The lock screen on Android 14 will feature personalised clocks with font, colour, size, and design options, and new lock screen shortcuts for frequently used activities, such as turning on the flashlight, accessing the payment wallet, and scanning QR codes.\n",
       " ,\n",
       " While at I/O, Dave Burke, VP of Engineering at Google, discussed new customisation options that will be available on the lock screen of Android 14.,\n",
       " The Android 14 beta program will continue until the public release of Android 14, which is expected later in autumn 2023, and updates will be provided regularly.\n",
       " ,\n",
       " If you're eager to try out the latest Android operating system, the Android 14 Beta 1 is more stable than the developer preview, but it is still experimental software that may have bugs, so it's essential to back up your device before downloading.]"
      ]
     },
     "execution_count": 14,
     "metadata": {},
     "output_type": "execute_result"
    }
   ],
   "source": [
    "summary = nlargest(sentence_length,sent_scores,sent_scores.get)\n",
    "summary"
   ]
  },
  {
   "cell_type": "code",
   "execution_count": 15,
   "metadata": {},
   "outputs": [
    {
     "name": "stdout",
     "output_type": "stream",
     "text": [
      "The lock screen on Android 14 will feature personalised clocks with font, colour, size, and design options, and new lock screen shortcuts for frequently used activities, such as turning on the flashlight, accessing the payment wallet, and scanning QR codes.\n",
      "\n",
      " While at I/O, Dave Burke, VP of Engineering at Google, discussed new customisation options that will be available on the lock screen of Android 14. The Android 14 beta program will continue until the public release of Android 14, which is expected later in autumn 2023, and updates will be provided regularly.\n",
      "\n",
      " If you're eager to try out the latest Android operating system, the Android 14 Beta 1 is more stable than the developer preview, but it is still experimental software that may have bugs, so it's essential to back up your device before downloading.\n"
     ]
    }
   ],
   "source": [
    "final_summary = [word.text for word in summary]\n",
    "final_summary = \" \".join(final_summary)\n",
    "print(final_summary)"
   ]
  }
 ],
 "metadata": {
  "kernelspec": {
   "display_name": "Python 3",
   "language": "python",
   "name": "python3"
  },
  "language_info": {
   "codemirror_mode": {
    "name": "ipython",
    "version": 3
   },
   "file_extension": ".py",
   "mimetype": "text/x-python",
   "name": "python",
   "nbconvert_exporter": "python",
   "pygments_lexer": "ipython3",
   "version": "3.10.6"
  },
  "orig_nbformat": 4
 },
 "nbformat": 4,
 "nbformat_minor": 2
}
